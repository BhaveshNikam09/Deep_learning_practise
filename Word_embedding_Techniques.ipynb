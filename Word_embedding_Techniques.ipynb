{
  "cells": [
    {
      "cell_type": "markdown",
      "metadata": {
        "id": "eHNf7J680XF-"
      },
      "source": [
        "### Word Embedding Techniques using Embedding Layer in Keras"
      ]
    },
    {
      "cell_type": "code",
      "execution_count": null,
      "metadata": {
        "id": "PEsK0_yl0XGB"
      },
      "outputs": [],
      "source": [
        "### Libraries USed Tensorflow> 2.0  and keras"
      ]
    },
    {
      "cell_type": "code",
      "execution_count": null,
      "metadata": {
        "colab": {
          "base_uri": "https://localhost:8080/"
        },
        "id": "pslw1Ya90XGC",
        "outputId": "de66f2dd-43d6-4477-9fb8-4ed421b4cbe4"
      },
      "outputs": [
        {
          "output_type": "stream",
          "name": "stdout",
          "text": [
            "Looking in indexes: https://pypi.org/simple, https://us-python.pkg.dev/colab-wheels/public/simple/\n",
            "Collecting tensorflow-gpu\n",
            "  Downloading tensorflow_gpu-2.9.1-cp37-cp37m-manylinux_2_17_x86_64.manylinux2014_x86_64.whl (511.7 MB)\n",
            "\u001b[K     |████████████████████████████████| 511.7 MB 6.2 kB/s \n",
            "\u001b[?25hRequirement already satisfied: astunparse>=1.6.0 in /usr/local/lib/python3.7/dist-packages (from tensorflow-gpu) (1.6.3)\n",
            "Requirement already satisfied: numpy>=1.20 in /usr/local/lib/python3.7/dist-packages (from tensorflow-gpu) (1.21.6)\n",
            "Requirement already satisfied: wrapt>=1.11.0 in /usr/local/lib/python3.7/dist-packages (from tensorflow-gpu) (1.14.1)\n",
            "Collecting keras<2.10.0,>=2.9.0rc0\n",
            "  Downloading keras-2.9.0-py2.py3-none-any.whl (1.6 MB)\n",
            "\u001b[K     |████████████████████████████████| 1.6 MB 51.8 MB/s \n",
            "\u001b[?25hRequirement already satisfied: h5py>=2.9.0 in /usr/local/lib/python3.7/dist-packages (from tensorflow-gpu) (3.1.0)\n",
            "Requirement already satisfied: setuptools in /usr/local/lib/python3.7/dist-packages (from tensorflow-gpu) (57.4.0)\n",
            "Requirement already satisfied: packaging in /usr/local/lib/python3.7/dist-packages (from tensorflow-gpu) (21.3)\n",
            "Requirement already satisfied: grpcio<2.0,>=1.24.3 in /usr/local/lib/python3.7/dist-packages (from tensorflow-gpu) (1.46.3)\n",
            "Requirement already satisfied: six>=1.12.0 in /usr/local/lib/python3.7/dist-packages (from tensorflow-gpu) (1.15.0)\n",
            "Requirement already satisfied: tensorflow-io-gcs-filesystem>=0.23.1 in /usr/local/lib/python3.7/dist-packages (from tensorflow-gpu) (0.26.0)\n",
            "Requirement already satisfied: keras-preprocessing>=1.1.1 in /usr/local/lib/python3.7/dist-packages (from tensorflow-gpu) (1.1.2)\n",
            "Requirement already satisfied: absl-py>=1.0.0 in /usr/local/lib/python3.7/dist-packages (from tensorflow-gpu) (1.1.0)\n",
            "Requirement already satisfied: libclang>=13.0.0 in /usr/local/lib/python3.7/dist-packages (from tensorflow-gpu) (14.0.1)\n",
            "Collecting tensorboard<2.10,>=2.9\n",
            "  Downloading tensorboard-2.9.1-py3-none-any.whl (5.8 MB)\n",
            "\u001b[K     |████████████████████████████████| 5.8 MB 18.4 MB/s \n",
            "\u001b[?25hRequirement already satisfied: protobuf<3.20,>=3.9.2 in /usr/local/lib/python3.7/dist-packages (from tensorflow-gpu) (3.17.3)\n",
            "Requirement already satisfied: typing-extensions>=3.6.6 in /usr/local/lib/python3.7/dist-packages (from tensorflow-gpu) (4.1.1)\n",
            "Requirement already satisfied: opt-einsum>=2.3.2 in /usr/local/lib/python3.7/dist-packages (from tensorflow-gpu) (3.3.0)\n",
            "Collecting tensorflow-estimator<2.10.0,>=2.9.0rc0\n",
            "  Downloading tensorflow_estimator-2.9.0-py2.py3-none-any.whl (438 kB)\n",
            "\u001b[K     |████████████████████████████████| 438 kB 58.8 MB/s \n",
            "\u001b[?25hRequirement already satisfied: google-pasta>=0.1.1 in /usr/local/lib/python3.7/dist-packages (from tensorflow-gpu) (0.2.0)\n",
            "Requirement already satisfied: termcolor>=1.1.0 in /usr/local/lib/python3.7/dist-packages (from tensorflow-gpu) (1.1.0)\n",
            "Collecting gast<=0.4.0,>=0.2.1\n",
            "  Downloading gast-0.4.0-py3-none-any.whl (9.8 kB)\n",
            "Collecting flatbuffers<2,>=1.12\n",
            "  Downloading flatbuffers-1.12-py2.py3-none-any.whl (15 kB)\n",
            "Requirement already satisfied: wheel<1.0,>=0.23.0 in /usr/local/lib/python3.7/dist-packages (from astunparse>=1.6.0->tensorflow-gpu) (0.37.1)\n",
            "Requirement already satisfied: cached-property in /usr/local/lib/python3.7/dist-packages (from h5py>=2.9.0->tensorflow-gpu) (1.5.2)\n",
            "Requirement already satisfied: tensorboard-data-server<0.7.0,>=0.6.0 in /usr/local/lib/python3.7/dist-packages (from tensorboard<2.10,>=2.9->tensorflow-gpu) (0.6.1)\n",
            "Requirement already satisfied: markdown>=2.6.8 in /usr/local/lib/python3.7/dist-packages (from tensorboard<2.10,>=2.9->tensorflow-gpu) (3.3.7)\n",
            "Requirement already satisfied: google-auth<3,>=1.6.3 in /usr/local/lib/python3.7/dist-packages (from tensorboard<2.10,>=2.9->tensorflow-gpu) (1.35.0)\n",
            "Requirement already satisfied: requests<3,>=2.21.0 in /usr/local/lib/python3.7/dist-packages (from tensorboard<2.10,>=2.9->tensorflow-gpu) (2.23.0)\n",
            "Requirement already satisfied: tensorboard-plugin-wit>=1.6.0 in /usr/local/lib/python3.7/dist-packages (from tensorboard<2.10,>=2.9->tensorflow-gpu) (1.8.1)\n",
            "Requirement already satisfied: google-auth-oauthlib<0.5,>=0.4.1 in /usr/local/lib/python3.7/dist-packages (from tensorboard<2.10,>=2.9->tensorflow-gpu) (0.4.6)\n",
            "Requirement already satisfied: werkzeug>=1.0.1 in /usr/local/lib/python3.7/dist-packages (from tensorboard<2.10,>=2.9->tensorflow-gpu) (1.0.1)\n",
            "Requirement already satisfied: rsa<5,>=3.1.4 in /usr/local/lib/python3.7/dist-packages (from google-auth<3,>=1.6.3->tensorboard<2.10,>=2.9->tensorflow-gpu) (4.8)\n",
            "Requirement already satisfied: pyasn1-modules>=0.2.1 in /usr/local/lib/python3.7/dist-packages (from google-auth<3,>=1.6.3->tensorboard<2.10,>=2.9->tensorflow-gpu) (0.2.8)\n",
            "Requirement already satisfied: cachetools<5.0,>=2.0.0 in /usr/local/lib/python3.7/dist-packages (from google-auth<3,>=1.6.3->tensorboard<2.10,>=2.9->tensorflow-gpu) (4.2.4)\n",
            "Requirement already satisfied: requests-oauthlib>=0.7.0 in /usr/local/lib/python3.7/dist-packages (from google-auth-oauthlib<0.5,>=0.4.1->tensorboard<2.10,>=2.9->tensorflow-gpu) (1.3.1)\n",
            "Requirement already satisfied: importlib-metadata>=4.4 in /usr/local/lib/python3.7/dist-packages (from markdown>=2.6.8->tensorboard<2.10,>=2.9->tensorflow-gpu) (4.11.4)\n",
            "Requirement already satisfied: zipp>=0.5 in /usr/local/lib/python3.7/dist-packages (from importlib-metadata>=4.4->markdown>=2.6.8->tensorboard<2.10,>=2.9->tensorflow-gpu) (3.8.0)\n",
            "Requirement already satisfied: pyasn1<0.5.0,>=0.4.6 in /usr/local/lib/python3.7/dist-packages (from pyasn1-modules>=0.2.1->google-auth<3,>=1.6.3->tensorboard<2.10,>=2.9->tensorflow-gpu) (0.4.8)\n",
            "Requirement already satisfied: chardet<4,>=3.0.2 in /usr/local/lib/python3.7/dist-packages (from requests<3,>=2.21.0->tensorboard<2.10,>=2.9->tensorflow-gpu) (3.0.4)\n",
            "Requirement already satisfied: urllib3!=1.25.0,!=1.25.1,<1.26,>=1.21.1 in /usr/local/lib/python3.7/dist-packages (from requests<3,>=2.21.0->tensorboard<2.10,>=2.9->tensorflow-gpu) (1.24.3)\n",
            "Requirement already satisfied: certifi>=2017.4.17 in /usr/local/lib/python3.7/dist-packages (from requests<3,>=2.21.0->tensorboard<2.10,>=2.9->tensorflow-gpu) (2022.6.15)\n",
            "Requirement already satisfied: idna<3,>=2.5 in /usr/local/lib/python3.7/dist-packages (from requests<3,>=2.21.0->tensorboard<2.10,>=2.9->tensorflow-gpu) (2.10)\n",
            "Requirement already satisfied: oauthlib>=3.0.0 in /usr/local/lib/python3.7/dist-packages (from requests-oauthlib>=0.7.0->google-auth-oauthlib<0.5,>=0.4.1->tensorboard<2.10,>=2.9->tensorflow-gpu) (3.2.0)\n",
            "Requirement already satisfied: pyparsing!=3.0.5,>=2.0.2 in /usr/local/lib/python3.7/dist-packages (from packaging->tensorflow-gpu) (3.0.9)\n",
            "Installing collected packages: tensorflow-estimator, tensorboard, keras, gast, flatbuffers, tensorflow-gpu\n",
            "  Attempting uninstall: tensorflow-estimator\n",
            "    Found existing installation: tensorflow-estimator 2.8.0\n",
            "    Uninstalling tensorflow-estimator-2.8.0:\n",
            "      Successfully uninstalled tensorflow-estimator-2.8.0\n",
            "  Attempting uninstall: tensorboard\n",
            "    Found existing installation: tensorboard 2.8.0\n",
            "    Uninstalling tensorboard-2.8.0:\n",
            "      Successfully uninstalled tensorboard-2.8.0\n",
            "  Attempting uninstall: keras\n",
            "    Found existing installation: keras 2.8.0\n",
            "    Uninstalling keras-2.8.0:\n",
            "      Successfully uninstalled keras-2.8.0\n",
            "  Attempting uninstall: gast\n",
            "    Found existing installation: gast 0.5.3\n",
            "    Uninstalling gast-0.5.3:\n",
            "      Successfully uninstalled gast-0.5.3\n",
            "  Attempting uninstall: flatbuffers\n",
            "    Found existing installation: flatbuffers 2.0\n",
            "    Uninstalling flatbuffers-2.0:\n",
            "      Successfully uninstalled flatbuffers-2.0\n",
            "\u001b[31mERROR: pip's dependency resolver does not currently take into account all the packages that are installed. This behaviour is the source of the following dependency conflicts.\n",
            "tensorflow 2.8.2+zzzcolab20220527125636 requires keras<2.9,>=2.8.0rc0, but you have keras 2.9.0 which is incompatible.\n",
            "tensorflow 2.8.2+zzzcolab20220527125636 requires tensorboard<2.9,>=2.8, but you have tensorboard 2.9.1 which is incompatible.\n",
            "tensorflow 2.8.2+zzzcolab20220527125636 requires tensorflow-estimator<2.9,>=2.8, but you have tensorflow-estimator 2.9.0 which is incompatible.\u001b[0m\n",
            "Successfully installed flatbuffers-1.12 gast-0.4.0 keras-2.9.0 tensorboard-2.9.1 tensorflow-estimator-2.9.0 tensorflow-gpu-2.9.1\n"
          ]
        }
      ],
      "source": [
        "!pip install tensorflow-gpu"
      ]
    },
    {
      "cell_type": "code",
      "source": [
        "import tensorflow as tf\n",
        "print(tf.__version__)"
      ],
      "metadata": {
        "colab": {
          "base_uri": "https://localhost:8080/"
        },
        "id": "yZ5hceiMAX7n",
        "outputId": "587bbb62-87ec-408c-ec02-18d1576d8f74"
      },
      "execution_count": 2,
      "outputs": [
        {
          "output_type": "stream",
          "name": "stdout",
          "text": [
            "2.18.0\n"
          ]
        }
      ]
    },
    {
      "cell_type": "code",
      "execution_count": 3,
      "metadata": {
        "id": "k4nKifUl0XGC"
      },
      "outputs": [],
      "source": [
        "##tensorflow >2.0\n",
        "from tensorflow.keras.preprocessing.text import one_hot"
      ]
    },
    {
      "cell_type": "code",
      "source": [],
      "metadata": {
        "id": "hADTdqZTAUfS"
      },
      "execution_count": 10,
      "outputs": []
    },
    {
      "cell_type": "code",
      "execution_count": 4,
      "metadata": {
        "id": "Fu9PuYeu0XGD"
      },
      "outputs": [],
      "source": [
        "### sentences\n",
        "sent=[  'the glass of milk',\n",
        "     'the glass of juice',\n",
        "     'the cup of tea',\n",
        "    'I am a good boy',\n",
        "     'I am a good developer',\n",
        "     'understand the meaning of words',\n",
        "     'your videos are good']"
      ]
    },
    {
      "cell_type": "code",
      "execution_count": 5,
      "metadata": {
        "colab": {
          "base_uri": "https://localhost:8080/"
        },
        "id": "x5d1D3_20XGD",
        "outputId": "28bac3c0-9e2c-481b-fb17-98b35ad317e8"
      },
      "outputs": [
        {
          "output_type": "execute_result",
          "data": {
            "text/plain": [
              "['the glass of milk',\n",
              " 'the glass of juice',\n",
              " 'the cup of tea',\n",
              " 'I am a good boy',\n",
              " 'I am a good developer',\n",
              " 'understand the meaning of words',\n",
              " 'your videos are good']"
            ]
          },
          "metadata": {},
          "execution_count": 5
        }
      ],
      "source": [
        "sent"
      ]
    },
    {
      "cell_type": "code",
      "execution_count": 6,
      "metadata": {
        "id": "tjnXIn3B0XGE"
      },
      "outputs": [],
      "source": [
        "### Vocabulary size\n",
        "voc_size=500"
      ]
    },
    {
      "cell_type": "markdown",
      "metadata": {
        "id": "-vQOdeKk0XGE"
      },
      "source": [
        "#### One Hot Representation"
      ]
    },
    {
      "cell_type": "code",
      "execution_count": 7,
      "metadata": {
        "colab": {
          "base_uri": "https://localhost:8080/"
        },
        "id": "gojfZpAW0XGE",
        "outputId": "bd1dbcbb-c314-494e-c69d-11fd53e2ff24"
      },
      "outputs": [
        {
          "output_type": "stream",
          "name": "stdout",
          "text": [
            "[[148, 166, 13, 268], [148, 166, 13, 460], [148, 299, 13, 414], [187, 475, 222, 123, 454], [187, 475, 222, 123, 69], [396, 148, 289, 13, 105], [316, 172, 333, 123]]\n"
          ]
        }
      ],
      "source": [
        "onehot_repr=[one_hot(words,voc_size)for words in sent]\n",
        "print(onehot_repr)"
      ]
    },
    {
      "cell_type": "markdown",
      "metadata": {
        "id": "eYG267x40XGF"
      },
      "source": [
        "### Word Embedding Represntation"
      ]
    },
    {
      "cell_type": "code",
      "execution_count": 8,
      "metadata": {
        "id": "wpqPm0tb0XGF"
      },
      "outputs": [],
      "source": [
        "from tensorflow.keras.layers import Embedding\n",
        "from tensorflow.keras.preprocessing.sequence import pad_sequences\n",
        "from tensorflow.keras.models import Sequential"
      ]
    },
    {
      "cell_type": "code",
      "execution_count": 9,
      "metadata": {
        "id": "Rov3GTM00XGG"
      },
      "outputs": [],
      "source": [
        "import numpy as np"
      ]
    },
    {
      "cell_type": "code",
      "execution_count": 10,
      "metadata": {
        "colab": {
          "base_uri": "https://localhost:8080/"
        },
        "id": "8fQLPw6p0XGG",
        "outputId": "2c7cbd09-7dd4-4118-9bd5-4ba7b6356705"
      },
      "outputs": [
        {
          "output_type": "stream",
          "name": "stdout",
          "text": [
            "[[  0   0   0   0 148 166  13 268]\n",
            " [  0   0   0   0 148 166  13 460]\n",
            " [  0   0   0   0 148 299  13 414]\n",
            " [  0   0   0 187 475 222 123 454]\n",
            " [  0   0   0 187 475 222 123  69]\n",
            " [  0   0   0 396 148 289  13 105]\n",
            " [  0   0   0   0 316 172 333 123]]\n"
          ]
        }
      ],
      "source": [
        "## pre padding\n",
        "sent_length=8\n",
        "embedded_docs=pad_sequences(onehot_repr,padding='pre',maxlen=sent_length)\n",
        "print(embedded_docs)"
      ]
    },
    {
      "cell_type": "code",
      "execution_count": 11,
      "metadata": {
        "id": "yjQqBYac0XGG"
      },
      "outputs": [],
      "source": [
        "## 10 feature dimesnions\n",
        "dim=10"
      ]
    },
    {
      "cell_type": "code",
      "execution_count": 12,
      "metadata": {
        "id": "ozC-TXrt0XGG",
        "colab": {
          "base_uri": "https://localhost:8080/"
        },
        "outputId": "f1014646-5aa9-43fe-fac9-9b804bf81b97"
      },
      "outputs": [
        {
          "output_type": "execute_result",
          "data": {
            "text/plain": [
              "<tf.Tensor: shape=(1, 8, 10), dtype=float32, numpy=\n",
              "array([[[-0.0248836 , -0.04694209,  0.00058324,  0.04060883,\n",
              "          0.04776299, -0.03767377, -0.03574016, -0.02884264,\n",
              "         -0.04277113, -0.04495829],\n",
              "        [-0.0248836 , -0.04694209,  0.00058324,  0.04060883,\n",
              "          0.04776299, -0.03767377, -0.03574016, -0.02884264,\n",
              "         -0.04277113, -0.04495829],\n",
              "        [-0.0248836 , -0.04694209,  0.00058324,  0.04060883,\n",
              "          0.04776299, -0.03767377, -0.03574016, -0.02884264,\n",
              "         -0.04277113, -0.04495829],\n",
              "        [-0.0248836 , -0.04694209,  0.00058324,  0.04060883,\n",
              "          0.04776299, -0.03767377, -0.03574016, -0.02884264,\n",
              "         -0.04277113, -0.04495829],\n",
              "        [-0.0248836 , -0.04694209,  0.00058324,  0.04060883,\n",
              "          0.04776299, -0.03767377, -0.03574016, -0.02884264,\n",
              "         -0.04277113, -0.04495829],\n",
              "        [-0.0248836 , -0.04694209,  0.00058324,  0.04060883,\n",
              "          0.04776299, -0.03767377, -0.03574016, -0.02884264,\n",
              "         -0.04277113, -0.04495829],\n",
              "        [-0.0248836 , -0.04694209,  0.00058324,  0.04060883,\n",
              "          0.04776299, -0.03767377, -0.03574016, -0.02884264,\n",
              "         -0.04277113, -0.04495829],\n",
              "        [-0.0248836 , -0.04694209,  0.00058324,  0.04060883,\n",
              "          0.04776299, -0.03767377, -0.03574016, -0.02884264,\n",
              "         -0.04277113, -0.04495829]]], dtype=float32)>"
            ]
          },
          "metadata": {},
          "execution_count": 12
        }
      ],
      "source": [
        "vocab_size = 10000\n",
        "embedding_dim = 100\n",
        "max_length = 20  # same length as padded embedded_docs\n",
        "\n",
        "model = Sequential()\n",
        "model.add(Embedding(voc_size,10))\n",
        "model.compile(optimizer='adam', loss='mse')\n",
        "model(np.zeros((1, 8), dtype='int32'))"
      ]
    },
    {
      "cell_type": "code",
      "execution_count": 13,
      "metadata": {
        "colab": {
          "base_uri": "https://localhost:8080/",
          "height": 161
        },
        "id": "tMNvq-Ji0XGH",
        "outputId": "e3e9f6d1-4234-4dbd-94c3-fa12630746bb"
      },
      "outputs": [
        {
          "output_type": "display_data",
          "data": {
            "text/plain": [
              "\u001b[1mModel: \"sequential\"\u001b[0m\n"
            ],
            "text/html": [
              "<pre style=\"white-space:pre;overflow-x:auto;line-height:normal;font-family:Menlo,'DejaVu Sans Mono',consolas,'Courier New',monospace\"><span style=\"font-weight: bold\">Model: \"sequential\"</span>\n",
              "</pre>\n"
            ]
          },
          "metadata": {}
        },
        {
          "output_type": "display_data",
          "data": {
            "text/plain": [
              "┏━━━━━━━━━━━━━━━━━━━━━━━━━━━━━━━━━┳━━━━━━━━━━━━━━━━━━━━━━━━┳━━━━━━━━━━━━━━━┓\n",
              "┃\u001b[1m \u001b[0m\u001b[1mLayer (type)                   \u001b[0m\u001b[1m \u001b[0m┃\u001b[1m \u001b[0m\u001b[1mOutput Shape          \u001b[0m\u001b[1m \u001b[0m┃\u001b[1m \u001b[0m\u001b[1m      Param #\u001b[0m\u001b[1m \u001b[0m┃\n",
              "┡━━━━━━━━━━━━━━━━━━━━━━━━━━━━━━━━━╇━━━━━━━━━━━━━━━━━━━━━━━━╇━━━━━━━━━━━━━━━┩\n",
              "│ embedding (\u001b[38;5;33mEmbedding\u001b[0m)           │ (\u001b[38;5;34m1\u001b[0m, \u001b[38;5;34m8\u001b[0m, \u001b[38;5;34m10\u001b[0m)             │         \u001b[38;5;34m5,000\u001b[0m │\n",
              "└─────────────────────────────────┴────────────────────────┴───────────────┘\n"
            ],
            "text/html": [
              "<pre style=\"white-space:pre;overflow-x:auto;line-height:normal;font-family:Menlo,'DejaVu Sans Mono',consolas,'Courier New',monospace\">┏━━━━━━━━━━━━━━━━━━━━━━━━━━━━━━━━━┳━━━━━━━━━━━━━━━━━━━━━━━━┳━━━━━━━━━━━━━━━┓\n",
              "┃<span style=\"font-weight: bold\"> Layer (type)                    </span>┃<span style=\"font-weight: bold\"> Output Shape           </span>┃<span style=\"font-weight: bold\">       Param # </span>┃\n",
              "┡━━━━━━━━━━━━━━━━━━━━━━━━━━━━━━━━━╇━━━━━━━━━━━━━━━━━━━━━━━━╇━━━━━━━━━━━━━━━┩\n",
              "│ embedding (<span style=\"color: #0087ff; text-decoration-color: #0087ff\">Embedding</span>)           │ (<span style=\"color: #00af00; text-decoration-color: #00af00\">1</span>, <span style=\"color: #00af00; text-decoration-color: #00af00\">8</span>, <span style=\"color: #00af00; text-decoration-color: #00af00\">10</span>)             │         <span style=\"color: #00af00; text-decoration-color: #00af00\">5,000</span> │\n",
              "└─────────────────────────────────┴────────────────────────┴───────────────┘\n",
              "</pre>\n"
            ]
          },
          "metadata": {}
        },
        {
          "output_type": "display_data",
          "data": {
            "text/plain": [
              "\u001b[1m Total params: \u001b[0m\u001b[38;5;34m5,000\u001b[0m (19.53 KB)\n"
            ],
            "text/html": [
              "<pre style=\"white-space:pre;overflow-x:auto;line-height:normal;font-family:Menlo,'DejaVu Sans Mono',consolas,'Courier New',monospace\"><span style=\"font-weight: bold\"> Total params: </span><span style=\"color: #00af00; text-decoration-color: #00af00\">5,000</span> (19.53 KB)\n",
              "</pre>\n"
            ]
          },
          "metadata": {}
        },
        {
          "output_type": "display_data",
          "data": {
            "text/plain": [
              "\u001b[1m Trainable params: \u001b[0m\u001b[38;5;34m5,000\u001b[0m (19.53 KB)\n"
            ],
            "text/html": [
              "<pre style=\"white-space:pre;overflow-x:auto;line-height:normal;font-family:Menlo,'DejaVu Sans Mono',consolas,'Courier New',monospace\"><span style=\"font-weight: bold\"> Trainable params: </span><span style=\"color: #00af00; text-decoration-color: #00af00\">5,000</span> (19.53 KB)\n",
              "</pre>\n"
            ]
          },
          "metadata": {}
        },
        {
          "output_type": "display_data",
          "data": {
            "text/plain": [
              "\u001b[1m Non-trainable params: \u001b[0m\u001b[38;5;34m0\u001b[0m (0.00 B)\n"
            ],
            "text/html": [
              "<pre style=\"white-space:pre;overflow-x:auto;line-height:normal;font-family:Menlo,'DejaVu Sans Mono',consolas,'Courier New',monospace\"><span style=\"font-weight: bold\"> Non-trainable params: </span><span style=\"color: #00af00; text-decoration-color: #00af00\">0</span> (0.00 B)\n",
              "</pre>\n"
            ]
          },
          "metadata": {}
        }
      ],
      "source": [
        "model.summary()"
      ]
    },
    {
      "cell_type": "code",
      "source": [
        "##'the glass of milk',\n",
        "embedded_docs[0]"
      ],
      "metadata": {
        "colab": {
          "base_uri": "https://localhost:8080/"
        },
        "id": "FC4Ess_FEcb3",
        "outputId": "353ad452-8f75-4c4a-afb1-79f28e7effb9"
      },
      "execution_count": 14,
      "outputs": [
        {
          "output_type": "execute_result",
          "data": {
            "text/plain": [
              "array([  0,   0,   0,   0, 148, 166,  13, 268], dtype=int32)"
            ]
          },
          "metadata": {},
          "execution_count": 14
        }
      ]
    },
    {
      "cell_type": "code",
      "source": [
        "embedded_docs = np.array(embedded_docs)"
      ],
      "metadata": {
        "id": "Ywe-W7eYBwgi"
      },
      "execution_count": 15,
      "outputs": []
    },
    {
      "cell_type": "code",
      "execution_count": 17,
      "metadata": {
        "colab": {
          "base_uri": "https://localhost:8080/"
        },
        "id": "kzKP69gx0XGH",
        "outputId": "02295156-9ddf-4644-d3d4-baf6c9b9a125"
      },
      "outputs": [
        {
          "output_type": "stream",
          "name": "stdout",
          "text": [
            "\u001b[1m1/1\u001b[0m \u001b[32m━━━━━━━━━━━━━━━━━━━━\u001b[0m\u001b[37m\u001b[0m \u001b[1m0s\u001b[0m 205ms/step\n",
            "[[[-2.4883604e-02 -4.6942092e-02  5.8324262e-04  4.0608834e-02\n",
            "    4.7762994e-02 -3.7673771e-02 -3.5740159e-02 -2.8842641e-02\n",
            "   -4.2771127e-02 -4.4958293e-02]\n",
            "  [-2.4883604e-02 -4.6942092e-02  5.8324262e-04  4.0608834e-02\n",
            "    4.7762994e-02 -3.7673771e-02 -3.5740159e-02 -2.8842641e-02\n",
            "   -4.2771127e-02 -4.4958293e-02]\n",
            "  [-2.4883604e-02 -4.6942092e-02  5.8324262e-04  4.0608834e-02\n",
            "    4.7762994e-02 -3.7673771e-02 -3.5740159e-02 -2.8842641e-02\n",
            "   -4.2771127e-02 -4.4958293e-02]\n",
            "  [-2.4883604e-02 -4.6942092e-02  5.8324262e-04  4.0608834e-02\n",
            "    4.7762994e-02 -3.7673771e-02 -3.5740159e-02 -2.8842641e-02\n",
            "   -4.2771127e-02 -4.4958293e-02]\n",
            "  [-1.1199005e-03 -5.7290196e-03 -3.2866288e-02 -1.5660465e-02\n",
            "    1.0214530e-02 -2.8924262e-02 -2.1482253e-02  3.8603555e-02\n",
            "    3.5426866e-02 -5.8953650e-03]\n",
            "  [ 2.6777733e-02  4.0938746e-02  1.0759901e-02 -7.4070469e-03\n",
            "    2.0322096e-02 -1.2835216e-02  8.1458688e-03 -1.0719836e-02\n",
            "    4.9760826e-03 -3.1268194e-02]\n",
            "  [-3.7852429e-02 -1.8674087e-02  3.3808026e-02 -5.1349401e-04\n",
            "    7.3027834e-03  4.2428970e-03 -1.6889691e-02  3.2732617e-02\n",
            "   -3.8304280e-02  2.2874307e-02]\n",
            "  [ 1.3735484e-02 -4.6275795e-02 -5.4782517e-03 -2.9118240e-02\n",
            "   -4.0106822e-02  5.5616498e-03 -1.4722966e-02  4.4794116e-02\n",
            "   -1.9997096e-02 -1.9457627e-02]]\n",
            "\n",
            " [[-2.4883604e-02 -4.6942092e-02  5.8324262e-04  4.0608834e-02\n",
            "    4.7762994e-02 -3.7673771e-02 -3.5740159e-02 -2.8842641e-02\n",
            "   -4.2771127e-02 -4.4958293e-02]\n",
            "  [-2.4883604e-02 -4.6942092e-02  5.8324262e-04  4.0608834e-02\n",
            "    4.7762994e-02 -3.7673771e-02 -3.5740159e-02 -2.8842641e-02\n",
            "   -4.2771127e-02 -4.4958293e-02]\n",
            "  [-2.4883604e-02 -4.6942092e-02  5.8324262e-04  4.0608834e-02\n",
            "    4.7762994e-02 -3.7673771e-02 -3.5740159e-02 -2.8842641e-02\n",
            "   -4.2771127e-02 -4.4958293e-02]\n",
            "  [-2.4883604e-02 -4.6942092e-02  5.8324262e-04  4.0608834e-02\n",
            "    4.7762994e-02 -3.7673771e-02 -3.5740159e-02 -2.8842641e-02\n",
            "   -4.2771127e-02 -4.4958293e-02]\n",
            "  [-1.1199005e-03 -5.7290196e-03 -3.2866288e-02 -1.5660465e-02\n",
            "    1.0214530e-02 -2.8924262e-02 -2.1482253e-02  3.8603555e-02\n",
            "    3.5426866e-02 -5.8953650e-03]\n",
            "  [ 2.6777733e-02  4.0938746e-02  1.0759901e-02 -7.4070469e-03\n",
            "    2.0322096e-02 -1.2835216e-02  8.1458688e-03 -1.0719836e-02\n",
            "    4.9760826e-03 -3.1268194e-02]\n",
            "  [-3.7852429e-02 -1.8674087e-02  3.3808026e-02 -5.1349401e-04\n",
            "    7.3027834e-03  4.2428970e-03 -1.6889691e-02  3.2732617e-02\n",
            "   -3.8304280e-02  2.2874307e-02]\n",
            "  [-1.7563917e-02  3.7125040e-02 -2.1252740e-02  1.6227532e-02\n",
            "    2.0492863e-02 -2.6268531e-02  5.4939389e-03 -1.9627620e-02\n",
            "    2.6575889e-02  2.9146671e-03]]\n",
            "\n",
            " [[-2.4883604e-02 -4.6942092e-02  5.8324262e-04  4.0608834e-02\n",
            "    4.7762994e-02 -3.7673771e-02 -3.5740159e-02 -2.8842641e-02\n",
            "   -4.2771127e-02 -4.4958293e-02]\n",
            "  [-2.4883604e-02 -4.6942092e-02  5.8324262e-04  4.0608834e-02\n",
            "    4.7762994e-02 -3.7673771e-02 -3.5740159e-02 -2.8842641e-02\n",
            "   -4.2771127e-02 -4.4958293e-02]\n",
            "  [-2.4883604e-02 -4.6942092e-02  5.8324262e-04  4.0608834e-02\n",
            "    4.7762994e-02 -3.7673771e-02 -3.5740159e-02 -2.8842641e-02\n",
            "   -4.2771127e-02 -4.4958293e-02]\n",
            "  [-2.4883604e-02 -4.6942092e-02  5.8324262e-04  4.0608834e-02\n",
            "    4.7762994e-02 -3.7673771e-02 -3.5740159e-02 -2.8842641e-02\n",
            "   -4.2771127e-02 -4.4958293e-02]\n",
            "  [-1.1199005e-03 -5.7290196e-03 -3.2866288e-02 -1.5660465e-02\n",
            "    1.0214530e-02 -2.8924262e-02 -2.1482253e-02  3.8603555e-02\n",
            "    3.5426866e-02 -5.8953650e-03]\n",
            "  [ 1.3142969e-02 -8.5344203e-03  7.2316527e-03 -4.9225390e-02\n",
            "   -7.3607340e-03 -1.3990104e-02  3.4005072e-02 -2.0017684e-02\n",
            "    4.8677627e-02  4.6350587e-02]\n",
            "  [-3.7852429e-02 -1.8674087e-02  3.3808026e-02 -5.1349401e-04\n",
            "    7.3027834e-03  4.2428970e-03 -1.6889691e-02  3.2732617e-02\n",
            "   -3.8304280e-02  2.2874307e-02]\n",
            "  [-1.7317545e-02  4.3278564e-02  1.0448277e-02 -4.0675271e-02\n",
            "   -4.0810287e-02  4.9094308e-02  7.9505518e-04 -2.7373791e-02\n",
            "   -5.8885105e-03  8.1924684e-03]]\n",
            "\n",
            " [[-2.4883604e-02 -4.6942092e-02  5.8324262e-04  4.0608834e-02\n",
            "    4.7762994e-02 -3.7673771e-02 -3.5740159e-02 -2.8842641e-02\n",
            "   -4.2771127e-02 -4.4958293e-02]\n",
            "  [-2.4883604e-02 -4.6942092e-02  5.8324262e-04  4.0608834e-02\n",
            "    4.7762994e-02 -3.7673771e-02 -3.5740159e-02 -2.8842641e-02\n",
            "   -4.2771127e-02 -4.4958293e-02]\n",
            "  [-2.4883604e-02 -4.6942092e-02  5.8324262e-04  4.0608834e-02\n",
            "    4.7762994e-02 -3.7673771e-02 -3.5740159e-02 -2.8842641e-02\n",
            "   -4.2771127e-02 -4.4958293e-02]\n",
            "  [-4.8999429e-02  1.3084676e-02  2.6800301e-02 -4.4124212e-02\n",
            "    2.2044722e-02  3.3598866e-02  3.8038719e-02 -6.6873319e-03\n",
            "   -4.2327441e-02  4.7419716e-02]\n",
            "  [ 4.8786487e-02 -4.1327309e-02 -7.1302652e-03  4.1614626e-02\n",
            "   -4.3542609e-03  5.2452087e-05  4.4707980e-02 -2.6633227e-02\n",
            "    1.1942506e-02  4.7522392e-02]\n",
            "  [ 1.2250818e-02  4.5061316e-02 -9.9001154e-03 -1.3681494e-02\n",
            "    2.6725400e-02  9.4556920e-03  5.9578642e-03  4.0925417e-02\n",
            "    9.2943087e-03  4.5727979e-02]\n",
            "  [ 9.8494180e-03 -3.8979791e-02 -2.6963269e-02  4.0253762e-02\n",
            "    3.7251618e-02  2.6400875e-02  8.8889375e-03 -2.2287846e-02\n",
            "    2.4612639e-02 -4.0957320e-02]\n",
            "  [-4.2595234e-02 -1.9826604e-02 -3.0520523e-02  3.0726854e-02\n",
            "   -9.9674091e-03 -3.3395968e-02 -3.7887763e-02  1.1220694e-02\n",
            "   -2.6370157e-02  1.0463819e-03]]\n",
            "\n",
            " [[-2.4883604e-02 -4.6942092e-02  5.8324262e-04  4.0608834e-02\n",
            "    4.7762994e-02 -3.7673771e-02 -3.5740159e-02 -2.8842641e-02\n",
            "   -4.2771127e-02 -4.4958293e-02]\n",
            "  [-2.4883604e-02 -4.6942092e-02  5.8324262e-04  4.0608834e-02\n",
            "    4.7762994e-02 -3.7673771e-02 -3.5740159e-02 -2.8842641e-02\n",
            "   -4.2771127e-02 -4.4958293e-02]\n",
            "  [-2.4883604e-02 -4.6942092e-02  5.8324262e-04  4.0608834e-02\n",
            "    4.7762994e-02 -3.7673771e-02 -3.5740159e-02 -2.8842641e-02\n",
            "   -4.2771127e-02 -4.4958293e-02]\n",
            "  [-4.8999429e-02  1.3084676e-02  2.6800301e-02 -4.4124212e-02\n",
            "    2.2044722e-02  3.3598866e-02  3.8038719e-02 -6.6873319e-03\n",
            "   -4.2327441e-02  4.7419716e-02]\n",
            "  [ 4.8786487e-02 -4.1327309e-02 -7.1302652e-03  4.1614626e-02\n",
            "   -4.3542609e-03  5.2452087e-05  4.4707980e-02 -2.6633227e-02\n",
            "    1.1942506e-02  4.7522392e-02]\n",
            "  [ 1.2250818e-02  4.5061316e-02 -9.9001154e-03 -1.3681494e-02\n",
            "    2.6725400e-02  9.4556920e-03  5.9578642e-03  4.0925417e-02\n",
            "    9.2943087e-03  4.5727979e-02]\n",
            "  [ 9.8494180e-03 -3.8979791e-02 -2.6963269e-02  4.0253762e-02\n",
            "    3.7251618e-02  2.6400875e-02  8.8889375e-03 -2.2287846e-02\n",
            "    2.4612639e-02 -4.0957320e-02]\n",
            "  [ 5.8531873e-03  1.6775694e-02  1.0642968e-02 -3.5292972e-02\n",
            "    2.6875127e-02  3.2995824e-02  4.6659041e-02  3.8133774e-02\n",
            "    1.2688350e-02 -2.0936877e-04]]\n",
            "\n",
            " [[-2.4883604e-02 -4.6942092e-02  5.8324262e-04  4.0608834e-02\n",
            "    4.7762994e-02 -3.7673771e-02 -3.5740159e-02 -2.8842641e-02\n",
            "   -4.2771127e-02 -4.4958293e-02]\n",
            "  [-2.4883604e-02 -4.6942092e-02  5.8324262e-04  4.0608834e-02\n",
            "    4.7762994e-02 -3.7673771e-02 -3.5740159e-02 -2.8842641e-02\n",
            "   -4.2771127e-02 -4.4958293e-02]\n",
            "  [-2.4883604e-02 -4.6942092e-02  5.8324262e-04  4.0608834e-02\n",
            "    4.7762994e-02 -3.7673771e-02 -3.5740159e-02 -2.8842641e-02\n",
            "   -4.2771127e-02 -4.4958293e-02]\n",
            "  [-1.7385565e-02 -9.7185858e-03  3.4819469e-03  3.3737447e-02\n",
            "   -2.1430207e-02  5.7031289e-03  3.2132160e-02 -5.0981529e-03\n",
            "   -1.2926780e-02  4.5809556e-02]\n",
            "  [-1.1199005e-03 -5.7290196e-03 -3.2866288e-02 -1.5660465e-02\n",
            "    1.0214530e-02 -2.8924262e-02 -2.1482253e-02  3.8603555e-02\n",
            "    3.5426866e-02 -5.8953650e-03]\n",
            "  [-2.7613629e-02 -2.6035715e-02  9.0255626e-03  2.4282336e-03\n",
            "    2.7318206e-02  3.9849058e-03 -2.6686644e-02  1.1543453e-02\n",
            "   -3.8147457e-03 -1.4704093e-03]\n",
            "  [-3.7852429e-02 -1.8674087e-02  3.3808026e-02 -5.1349401e-04\n",
            "    7.3027834e-03  4.2428970e-03 -1.6889691e-02  3.2732617e-02\n",
            "   -3.8304280e-02  2.2874307e-02]\n",
            "  [-4.2550053e-02  1.8669192e-02 -1.2854062e-02 -2.1914721e-02\n",
            "   -4.7925066e-02  4.3627646e-02 -1.9502616e-02  3.8518421e-03\n",
            "   -1.8656813e-02  3.7401106e-02]]\n",
            "\n",
            " [[-2.4883604e-02 -4.6942092e-02  5.8324262e-04  4.0608834e-02\n",
            "    4.7762994e-02 -3.7673771e-02 -3.5740159e-02 -2.8842641e-02\n",
            "   -4.2771127e-02 -4.4958293e-02]\n",
            "  [-2.4883604e-02 -4.6942092e-02  5.8324262e-04  4.0608834e-02\n",
            "    4.7762994e-02 -3.7673771e-02 -3.5740159e-02 -2.8842641e-02\n",
            "   -4.2771127e-02 -4.4958293e-02]\n",
            "  [-2.4883604e-02 -4.6942092e-02  5.8324262e-04  4.0608834e-02\n",
            "    4.7762994e-02 -3.7673771e-02 -3.5740159e-02 -2.8842641e-02\n",
            "   -4.2771127e-02 -4.4958293e-02]\n",
            "  [-2.4883604e-02 -4.6942092e-02  5.8324262e-04  4.0608834e-02\n",
            "    4.7762994e-02 -3.7673771e-02 -3.5740159e-02 -2.8842641e-02\n",
            "   -4.2771127e-02 -4.4958293e-02]\n",
            "  [-2.1965802e-02  1.7414402e-02  2.2372413e-02 -1.5139986e-02\n",
            "    4.5678105e-02  4.2358268e-02 -9.0272203e-03 -4.7270026e-02\n",
            "    1.8589605e-02  2.2435021e-02]\n",
            "  [-3.0282605e-02 -3.7787747e-02  3.5600614e-02  2.4300460e-02\n",
            "   -3.5501935e-02 -4.6416044e-02  8.1313364e-03 -4.7766194e-03\n",
            "    3.4269247e-02  1.8037867e-02]\n",
            "  [ 2.0191673e-02  4.3333735e-02 -3.3606850e-02  1.2317549e-02\n",
            "    2.9577825e-02 -4.9815327e-04 -4.4944953e-02 -3.0346965e-02\n",
            "    6.9203265e-03  6.4033270e-04]\n",
            "  [ 9.8494180e-03 -3.8979791e-02 -2.6963269e-02  4.0253762e-02\n",
            "    3.7251618e-02  2.6400875e-02  8.8889375e-03 -2.2287846e-02\n",
            "    2.4612639e-02 -4.0957320e-02]]]\n"
          ]
        }
      ],
      "source": [
        "print(model.predict(embedded_docs))"
      ]
    },
    {
      "cell_type": "code",
      "execution_count": 49,
      "metadata": {
        "id": "JuUxfk7d0XGH",
        "outputId": "72d2ecb1-82f7-4257-a729-09142cc82a46",
        "colab": {
          "base_uri": "https://localhost:8080/"
        }
      },
      "outputs": [
        {
          "output_type": "execute_result",
          "data": {
            "text/plain": [
              "array([  0,   0,   0,   0,  41,   3,   3, 247], dtype=int32)"
            ]
          },
          "metadata": {},
          "execution_count": 49
        }
      ],
      "source": [
        "embedded_docs[0]"
      ]
    },
    {
      "cell_type": "code",
      "execution_count": 50,
      "metadata": {
        "id": "6JJ_zD0u0XGH",
        "outputId": "13ff59b8-db6d-46a0-81c4-77b8c326a704",
        "colab": {
          "base_uri": "https://localhost:8080/",
          "height": 408
        }
      },
      "outputs": [
        {
          "output_type": "error",
          "ename": "ValueError",
          "evalue": "Exception encountered when calling Sequential.call().\n\n\u001b[1mCannot take the length of shape with unknown rank.\u001b[0m\n\nArguments received by Sequential.call():\n  • inputs=tf.Tensor(shape=<unknown>, dtype=int32)\n  • training=False\n  • mask=None",
          "traceback": [
            "\u001b[0;31m---------------------------------------------------------------------------\u001b[0m",
            "\u001b[0;31mValueError\u001b[0m                                Traceback (most recent call last)",
            "\u001b[0;32m<ipython-input-50-2750206428>\u001b[0m in \u001b[0;36m<cell line: 0>\u001b[0;34m()\u001b[0m\n\u001b[0;32m----> 1\u001b[0;31m \u001b[0mprint\u001b[0m\u001b[0;34m(\u001b[0m\u001b[0mmodel\u001b[0m\u001b[0;34m.\u001b[0m\u001b[0mpredict\u001b[0m\u001b[0;34m(\u001b[0m\u001b[0membedded_docs\u001b[0m\u001b[0;34m)\u001b[0m\u001b[0;34m[\u001b[0m\u001b[0;36m0\u001b[0m\u001b[0;34m]\u001b[0m\u001b[0;34m)\u001b[0m\u001b[0;34m\u001b[0m\u001b[0;34m\u001b[0m\u001b[0m\n\u001b[0m",
            "\u001b[0;32m/usr/local/lib/python3.11/dist-packages/keras/src/utils/traceback_utils.py\u001b[0m in \u001b[0;36merror_handler\u001b[0;34m(*args, **kwargs)\u001b[0m\n\u001b[1;32m    120\u001b[0m             \u001b[0;31m# To get the full stack trace, call:\u001b[0m\u001b[0;34m\u001b[0m\u001b[0;34m\u001b[0m\u001b[0m\n\u001b[1;32m    121\u001b[0m             \u001b[0;31m# `keras.config.disable_traceback_filtering()`\u001b[0m\u001b[0;34m\u001b[0m\u001b[0;34m\u001b[0m\u001b[0m\n\u001b[0;32m--> 122\u001b[0;31m             \u001b[0;32mraise\u001b[0m \u001b[0me\u001b[0m\u001b[0;34m.\u001b[0m\u001b[0mwith_traceback\u001b[0m\u001b[0;34m(\u001b[0m\u001b[0mfiltered_tb\u001b[0m\u001b[0;34m)\u001b[0m \u001b[0;32mfrom\u001b[0m \u001b[0;32mNone\u001b[0m\u001b[0;34m\u001b[0m\u001b[0;34m\u001b[0m\u001b[0m\n\u001b[0m\u001b[1;32m    123\u001b[0m         \u001b[0;32mfinally\u001b[0m\u001b[0;34m:\u001b[0m\u001b[0;34m\u001b[0m\u001b[0;34m\u001b[0m\u001b[0m\n\u001b[1;32m    124\u001b[0m             \u001b[0;32mdel\u001b[0m \u001b[0mfiltered_tb\u001b[0m\u001b[0;34m\u001b[0m\u001b[0;34m\u001b[0m\u001b[0m\n",
            "\u001b[0;32m/usr/local/lib/python3.11/dist-packages/keras/src/utils/traceback_utils.py\u001b[0m in \u001b[0;36merror_handler\u001b[0;34m(*args, **kwargs)\u001b[0m\n\u001b[1;32m    122\u001b[0m             \u001b[0;32mraise\u001b[0m \u001b[0me\u001b[0m\u001b[0;34m.\u001b[0m\u001b[0mwith_traceback\u001b[0m\u001b[0;34m(\u001b[0m\u001b[0mfiltered_tb\u001b[0m\u001b[0;34m)\u001b[0m \u001b[0;32mfrom\u001b[0m \u001b[0;32mNone\u001b[0m\u001b[0;34m\u001b[0m\u001b[0;34m\u001b[0m\u001b[0m\n\u001b[1;32m    123\u001b[0m         \u001b[0;32mfinally\u001b[0m\u001b[0;34m:\u001b[0m\u001b[0;34m\u001b[0m\u001b[0;34m\u001b[0m\u001b[0m\n\u001b[0;32m--> 124\u001b[0;31m             \u001b[0;32mdel\u001b[0m \u001b[0mfiltered_tb\u001b[0m\u001b[0;34m\u001b[0m\u001b[0;34m\u001b[0m\u001b[0m\n\u001b[0m\u001b[1;32m    125\u001b[0m \u001b[0;34m\u001b[0m\u001b[0m\n\u001b[1;32m    126\u001b[0m     \u001b[0;32mreturn\u001b[0m \u001b[0merror_handler\u001b[0m\u001b[0;34m\u001b[0m\u001b[0;34m\u001b[0m\u001b[0m\n",
            "\u001b[0;31mValueError\u001b[0m: Exception encountered when calling Sequential.call().\n\n\u001b[1mCannot take the length of shape with unknown rank.\u001b[0m\n\nArguments received by Sequential.call():\n  • inputs=tf.Tensor(shape=<unknown>, dtype=int32)\n  • training=False\n  • mask=None"
          ]
        }
      ],
      "source": [
        "print(model.predict(embedded_docs)[0])"
      ]
    },
    {
      "cell_type": "code",
      "execution_count": 18,
      "metadata": {
        "id": "8OMu3iAz0XGH"
      },
      "outputs": [],
      "source": [
        "### Assignment\n",
        "\n",
        "sent=[\"The world is a better place\",\n",
        "      \"Marvel series is my favourite movie\",\n",
        "      \"I like DC movies\",\n",
        "      \"the cat is eating the food\",\n",
        "      \"Tom and Jerry is my favourite movie\",\n",
        "      \"Python is my favourite programming language\"\n",
        "      ]"
      ]
    },
    {
      "cell_type": "code",
      "source": [
        "# Get the embedding layer\n",
        "embedding_layer = model.layers[0]\n",
        "\n",
        "# Call it directly\n",
        "embedded_vectors = embedding_layer(embedded_docs)\n",
        "print(embedded_vectors.shape)\n"
      ],
      "metadata": {
        "colab": {
          "base_uri": "https://localhost:8080/"
        },
        "id": "DIoNjn0oB-kF",
        "outputId": "0b59f019-9e1a-4e23-844d-4f49c1f23178"
      },
      "execution_count": 52,
      "outputs": [
        {
          "output_type": "stream",
          "name": "stdout",
          "text": [
            "(7, 8, 100)\n"
          ]
        }
      ]
    },
    {
      "cell_type": "code",
      "source": [
        "one_repro=[one_hot(words,vocab_size)for words in sent]\n",
        "print(one_repro)"
      ],
      "metadata": {
        "colab": {
          "base_uri": "https://localhost:8080/"
        },
        "id": "ob0E-r5hCXKs",
        "outputId": "a41eedfc-02b3-4a40-c875-c77c2b4798a8"
      },
      "execution_count": 19,
      "outputs": [
        {
          "output_type": "stream",
          "name": "stdout",
          "text": [
            "[[2394, 3379, 2602, 3249, 1806, 7535], [1149, 7337, 2602, 5811, 582, 1908], [2752, 3437, 7518, 4538], [2394, 5541, 2602, 2408, 2394, 9230], [7495, 7277, 6373, 2602, 5811, 582, 1908], [8951, 2602, 5811, 582, 1688, 9922]]\n"
          ]
        }
      ]
    },
    {
      "cell_type": "code",
      "source": [
        "embedded=pad_sequences(one_repro,padding='pre',maxlen=8)\n",
        "print(embedded)"
      ],
      "metadata": {
        "colab": {
          "base_uri": "https://localhost:8080/"
        },
        "id": "XbuEk_dQERV8",
        "outputId": "73d28011-9d90-4b13-eab9-a61fc195ca08"
      },
      "execution_count": 20,
      "outputs": [
        {
          "output_type": "stream",
          "name": "stdout",
          "text": [
            "[[   0    0 2394 3379 2602 3249 1806 7535]\n",
            " [   0    0 1149 7337 2602 5811  582 1908]\n",
            " [   0    0    0    0 2752 3437 7518 4538]\n",
            " [   0    0 2394 5541 2602 2408 2394 9230]\n",
            " [   0 7495 7277 6373 2602 5811  582 1908]\n",
            " [   0    0 8951 2602 5811  582 1688 9922]]\n"
          ]
        }
      ]
    },
    {
      "cell_type": "code",
      "source": [
        "model=Sequential()\n",
        "model.add(Embedding(vocab_size,10,input_length=8))\n",
        "model.compile('adam','mse')\n",
        "model(np.zeros((1,8),dtype='int32'))"
      ],
      "metadata": {
        "colab": {
          "base_uri": "https://localhost:8080/"
        },
        "id": "QLtoFPkqEW3O",
        "outputId": "52343c63-3a34-4ea5-c99c-78e56410250c"
      },
      "execution_count": 21,
      "outputs": [
        {
          "output_type": "stream",
          "name": "stderr",
          "text": [
            "/usr/local/lib/python3.11/dist-packages/keras/src/layers/core/embedding.py:90: UserWarning: Argument `input_length` is deprecated. Just remove it.\n",
            "  warnings.warn(\n"
          ]
        },
        {
          "output_type": "execute_result",
          "data": {
            "text/plain": [
              "<tf.Tensor: shape=(1, 8, 10), dtype=float32, numpy=\n",
              "array([[[ 0.02388083,  0.00529528,  0.00647851,  0.04334842,\n",
              "          0.04315049,  0.03619672,  0.0009652 , -0.02675526,\n",
              "          0.01014942, -0.04123814],\n",
              "        [ 0.02388083,  0.00529528,  0.00647851,  0.04334842,\n",
              "          0.04315049,  0.03619672,  0.0009652 , -0.02675526,\n",
              "          0.01014942, -0.04123814],\n",
              "        [ 0.02388083,  0.00529528,  0.00647851,  0.04334842,\n",
              "          0.04315049,  0.03619672,  0.0009652 , -0.02675526,\n",
              "          0.01014942, -0.04123814],\n",
              "        [ 0.02388083,  0.00529528,  0.00647851,  0.04334842,\n",
              "          0.04315049,  0.03619672,  0.0009652 , -0.02675526,\n",
              "          0.01014942, -0.04123814],\n",
              "        [ 0.02388083,  0.00529528,  0.00647851,  0.04334842,\n",
              "          0.04315049,  0.03619672,  0.0009652 , -0.02675526,\n",
              "          0.01014942, -0.04123814],\n",
              "        [ 0.02388083,  0.00529528,  0.00647851,  0.04334842,\n",
              "          0.04315049,  0.03619672,  0.0009652 , -0.02675526,\n",
              "          0.01014942, -0.04123814],\n",
              "        [ 0.02388083,  0.00529528,  0.00647851,  0.04334842,\n",
              "          0.04315049,  0.03619672,  0.0009652 , -0.02675526,\n",
              "          0.01014942, -0.04123814],\n",
              "        [ 0.02388083,  0.00529528,  0.00647851,  0.04334842,\n",
              "          0.04315049,  0.03619672,  0.0009652 , -0.02675526,\n",
              "          0.01014942, -0.04123814]]], dtype=float32)>"
            ]
          },
          "metadata": {},
          "execution_count": 21
        }
      ]
    },
    {
      "cell_type": "code",
      "source": [
        "model.summary()"
      ],
      "metadata": {
        "colab": {
          "base_uri": "https://localhost:8080/",
          "height": 161
        },
        "id": "R-2UnZ0GEdfX",
        "outputId": "0528fad3-4516-4e0e-c4ab-d023a0d1f5bb"
      },
      "execution_count": 22,
      "outputs": [
        {
          "output_type": "display_data",
          "data": {
            "text/plain": [
              "\u001b[1mModel: \"sequential_1\"\u001b[0m\n"
            ],
            "text/html": [
              "<pre style=\"white-space:pre;overflow-x:auto;line-height:normal;font-family:Menlo,'DejaVu Sans Mono',consolas,'Courier New',monospace\"><span style=\"font-weight: bold\">Model: \"sequential_1\"</span>\n",
              "</pre>\n"
            ]
          },
          "metadata": {}
        },
        {
          "output_type": "display_data",
          "data": {
            "text/plain": [
              "┏━━━━━━━━━━━━━━━━━━━━━━━━━━━━━━━━━┳━━━━━━━━━━━━━━━━━━━━━━━━┳━━━━━━━━━━━━━━━┓\n",
              "┃\u001b[1m \u001b[0m\u001b[1mLayer (type)                   \u001b[0m\u001b[1m \u001b[0m┃\u001b[1m \u001b[0m\u001b[1mOutput Shape          \u001b[0m\u001b[1m \u001b[0m┃\u001b[1m \u001b[0m\u001b[1m      Param #\u001b[0m\u001b[1m \u001b[0m┃\n",
              "┡━━━━━━━━━━━━━━━━━━━━━━━━━━━━━━━━━╇━━━━━━━━━━━━━━━━━━━━━━━━╇━━━━━━━━━━━━━━━┩\n",
              "│ embedding_1 (\u001b[38;5;33mEmbedding\u001b[0m)         │ (\u001b[38;5;34m1\u001b[0m, \u001b[38;5;34m8\u001b[0m, \u001b[38;5;34m10\u001b[0m)             │       \u001b[38;5;34m100,000\u001b[0m │\n",
              "└─────────────────────────────────┴────────────────────────┴───────────────┘\n"
            ],
            "text/html": [
              "<pre style=\"white-space:pre;overflow-x:auto;line-height:normal;font-family:Menlo,'DejaVu Sans Mono',consolas,'Courier New',monospace\">┏━━━━━━━━━━━━━━━━━━━━━━━━━━━━━━━━━┳━━━━━━━━━━━━━━━━━━━━━━━━┳━━━━━━━━━━━━━━━┓\n",
              "┃<span style=\"font-weight: bold\"> Layer (type)                    </span>┃<span style=\"font-weight: bold\"> Output Shape           </span>┃<span style=\"font-weight: bold\">       Param # </span>┃\n",
              "┡━━━━━━━━━━━━━━━━━━━━━━━━━━━━━━━━━╇━━━━━━━━━━━━━━━━━━━━━━━━╇━━━━━━━━━━━━━━━┩\n",
              "│ embedding_1 (<span style=\"color: #0087ff; text-decoration-color: #0087ff\">Embedding</span>)         │ (<span style=\"color: #00af00; text-decoration-color: #00af00\">1</span>, <span style=\"color: #00af00; text-decoration-color: #00af00\">8</span>, <span style=\"color: #00af00; text-decoration-color: #00af00\">10</span>)             │       <span style=\"color: #00af00; text-decoration-color: #00af00\">100,000</span> │\n",
              "└─────────────────────────────────┴────────────────────────┴───────────────┘\n",
              "</pre>\n"
            ]
          },
          "metadata": {}
        },
        {
          "output_type": "display_data",
          "data": {
            "text/plain": [
              "\u001b[1m Total params: \u001b[0m\u001b[38;5;34m100,000\u001b[0m (390.62 KB)\n"
            ],
            "text/html": [
              "<pre style=\"white-space:pre;overflow-x:auto;line-height:normal;font-family:Menlo,'DejaVu Sans Mono',consolas,'Courier New',monospace\"><span style=\"font-weight: bold\"> Total params: </span><span style=\"color: #00af00; text-decoration-color: #00af00\">100,000</span> (390.62 KB)\n",
              "</pre>\n"
            ]
          },
          "metadata": {}
        },
        {
          "output_type": "display_data",
          "data": {
            "text/plain": [
              "\u001b[1m Trainable params: \u001b[0m\u001b[38;5;34m100,000\u001b[0m (390.62 KB)\n"
            ],
            "text/html": [
              "<pre style=\"white-space:pre;overflow-x:auto;line-height:normal;font-family:Menlo,'DejaVu Sans Mono',consolas,'Courier New',monospace\"><span style=\"font-weight: bold\"> Trainable params: </span><span style=\"color: #00af00; text-decoration-color: #00af00\">100,000</span> (390.62 KB)\n",
              "</pre>\n"
            ]
          },
          "metadata": {}
        },
        {
          "output_type": "display_data",
          "data": {
            "text/plain": [
              "\u001b[1m Non-trainable params: \u001b[0m\u001b[38;5;34m0\u001b[0m (0.00 B)\n"
            ],
            "text/html": [
              "<pre style=\"white-space:pre;overflow-x:auto;line-height:normal;font-family:Menlo,'DejaVu Sans Mono',consolas,'Courier New',monospace\"><span style=\"font-weight: bold\"> Non-trainable params: </span><span style=\"color: #00af00; text-decoration-color: #00af00\">0</span> (0.00 B)\n",
              "</pre>\n"
            ]
          },
          "metadata": {}
        }
      ]
    },
    {
      "cell_type": "code",
      "source": [
        "model.predict(embedded)"
      ],
      "metadata": {
        "colab": {
          "base_uri": "https://localhost:8080/"
        },
        "id": "HzAOYj_VEfmI",
        "outputId": "a5a70355-868f-4ae1-d10d-3016bde02c41"
      },
      "execution_count": 23,
      "outputs": [
        {
          "output_type": "stream",
          "name": "stdout",
          "text": [
            "\u001b[1m1/1\u001b[0m \u001b[32m━━━━━━━━━━━━━━━━━━━━\u001b[0m\u001b[37m\u001b[0m \u001b[1m0s\u001b[0m 108ms/step\n"
          ]
        },
        {
          "output_type": "execute_result",
          "data": {
            "text/plain": [
              "array([[[ 2.38808282e-02,  5.29527664e-03,  6.47851080e-03,\n",
              "          4.33484204e-02,  4.31504883e-02,  3.61967199e-02,\n",
              "          9.65200365e-04, -2.67552622e-02,  1.01494193e-02,\n",
              "         -4.12381403e-02],\n",
              "        [ 2.38808282e-02,  5.29527664e-03,  6.47851080e-03,\n",
              "          4.33484204e-02,  4.31504883e-02,  3.61967199e-02,\n",
              "          9.65200365e-04, -2.67552622e-02,  1.01494193e-02,\n",
              "         -4.12381403e-02],\n",
              "        [ 1.07763782e-02,  5.30076027e-03, -5.08020073e-03,\n",
              "         -2.82939672e-02, -4.06637304e-02, -2.77838949e-02,\n",
              "          6.87192753e-03,  4.76192497e-02, -1.97592378e-02,\n",
              "          1.50390528e-02],\n",
              "        [ 3.63874771e-02, -3.71760502e-02, -1.71315446e-02,\n",
              "          9.59400088e-03, -1.81690231e-02,  3.60523947e-02,\n",
              "         -3.30837965e-02, -8.16956162e-05,  4.64508869e-02,\n",
              "          5.44775650e-03],\n",
              "        [ 1.68799423e-02, -4.35194969e-02,  1.57631151e-02,\n",
              "          2.53626145e-02, -1.75632127e-02,  4.76381816e-02,\n",
              "          1.38882883e-02, -2.35475898e-02,  3.31041552e-02,\n",
              "          4.25111540e-02],\n",
              "        [ 4.47506197e-02,  2.31122412e-02, -1.48055926e-02,\n",
              "         -3.97866853e-02,  1.45999901e-02,  2.22284086e-02,\n",
              "         -2.11022384e-02, -2.57602222e-02, -4.82550040e-02,\n",
              "          3.94920222e-02],\n",
              "        [-1.04924925e-02, -4.68357317e-02,  3.01000737e-02,\n",
              "          1.10156424e-02, -4.23238873e-02, -5.67704439e-03,\n",
              "         -1.93970557e-02,  2.58995779e-02, -4.57850806e-02,\n",
              "         -2.87716389e-02],\n",
              "        [ 1.03708617e-02,  3.06004994e-02, -1.18568763e-02,\n",
              "          6.45499304e-03,  2.13577636e-02, -6.28869608e-03,\n",
              "         -4.33196686e-02, -4.04458866e-02, -2.62601618e-02,\n",
              "          1.67493895e-03]],\n",
              "\n",
              "       [[ 2.38808282e-02,  5.29527664e-03,  6.47851080e-03,\n",
              "          4.33484204e-02,  4.31504883e-02,  3.61967199e-02,\n",
              "          9.65200365e-04, -2.67552622e-02,  1.01494193e-02,\n",
              "         -4.12381403e-02],\n",
              "        [ 2.38808282e-02,  5.29527664e-03,  6.47851080e-03,\n",
              "          4.33484204e-02,  4.31504883e-02,  3.61967199e-02,\n",
              "          9.65200365e-04, -2.67552622e-02,  1.01494193e-02,\n",
              "         -4.12381403e-02],\n",
              "        [-1.12611763e-02, -2.60474924e-02,  1.06527433e-02,\n",
              "         -3.45599279e-02,  2.87127607e-02, -4.56536189e-02,\n",
              "         -3.61255296e-02,  3.70652601e-03,  4.41308133e-02,\n",
              "          1.72931664e-02],\n",
              "        [ 3.78466509e-02, -3.23487446e-03, -1.56021118e-03,\n",
              "          4.84058596e-02, -2.51317862e-02,  4.40453328e-02,\n",
              "         -4.04525921e-03, -2.27914583e-02, -8.11446458e-04,\n",
              "          2.00637616e-02],\n",
              "        [ 1.68799423e-02, -4.35194969e-02,  1.57631151e-02,\n",
              "          2.53626145e-02, -1.75632127e-02,  4.76381816e-02,\n",
              "          1.38882883e-02, -2.35475898e-02,  3.31041552e-02,\n",
              "          4.25111540e-02],\n",
              "        [-1.85563341e-02, -1.13985538e-02,  3.13104875e-02,\n",
              "          3.99282463e-02, -3.15848961e-02,  2.80411728e-02,\n",
              "         -3.48443389e-02,  8.19989294e-03, -3.15450318e-02,\n",
              "          5.41014597e-03],\n",
              "        [-4.20944318e-02, -2.69572269e-02, -2.46117599e-02,\n",
              "          3.10343765e-02,  2.30043866e-02,  2.84458064e-02,\n",
              "          1.01395473e-02, -2.09751613e-02,  1.78289413e-03,\n",
              "          3.53863090e-03],\n",
              "        [ 3.69706489e-02, -9.87756252e-03,  1.55137517e-02,\n",
              "         -4.34692018e-02,  4.60566767e-02,  1.14729889e-02,\n",
              "         -3.58329788e-02, -1.18731149e-02, -1.45154819e-02,\n",
              "          1.06276497e-02]],\n",
              "\n",
              "       [[ 2.38808282e-02,  5.29527664e-03,  6.47851080e-03,\n",
              "          4.33484204e-02,  4.31504883e-02,  3.61967199e-02,\n",
              "          9.65200365e-04, -2.67552622e-02,  1.01494193e-02,\n",
              "         -4.12381403e-02],\n",
              "        [ 2.38808282e-02,  5.29527664e-03,  6.47851080e-03,\n",
              "          4.33484204e-02,  4.31504883e-02,  3.61967199e-02,\n",
              "          9.65200365e-04, -2.67552622e-02,  1.01494193e-02,\n",
              "         -4.12381403e-02],\n",
              "        [ 2.38808282e-02,  5.29527664e-03,  6.47851080e-03,\n",
              "          4.33484204e-02,  4.31504883e-02,  3.61967199e-02,\n",
              "          9.65200365e-04, -2.67552622e-02,  1.01494193e-02,\n",
              "         -4.12381403e-02],\n",
              "        [ 2.38808282e-02,  5.29527664e-03,  6.47851080e-03,\n",
              "          4.33484204e-02,  4.31504883e-02,  3.61967199e-02,\n",
              "          9.65200365e-04, -2.67552622e-02,  1.01494193e-02,\n",
              "         -4.12381403e-02],\n",
              "        [-3.88834961e-02,  2.40662433e-02,  2.95633785e-02,\n",
              "          8.99914652e-03, -4.82738502e-02,  2.05244757e-02,\n",
              "         -3.41142341e-03,  2.21224092e-02, -4.63803858e-03,\n",
              "          1.73149742e-02],\n",
              "        [-3.91972773e-02, -4.51220647e-02,  3.29077579e-02,\n",
              "         -3.79330516e-02, -8.11267644e-04, -2.58310325e-02,\n",
              "         -3.24118286e-02,  4.12117317e-03,  2.68949382e-02,\n",
              "         -1.22529268e-02],\n",
              "        [ 4.52959053e-02, -4.84020971e-02, -4.07963768e-02,\n",
              "          1.98572166e-02,  3.24211232e-02,  1.45622380e-02,\n",
              "          3.40702385e-03,  2.69723795e-02,  3.76171991e-03,\n",
              "         -3.54484096e-02],\n",
              "        [ 1.99873783e-02,  3.30657028e-02,  5.29967248e-04,\n",
              "         -6.44626468e-03, -3.21150944e-03,  2.44600289e-02,\n",
              "         -8.08048993e-04, -3.96225229e-02,  1.71393789e-02,\n",
              "         -9.01486725e-03]],\n",
              "\n",
              "       [[ 2.38808282e-02,  5.29527664e-03,  6.47851080e-03,\n",
              "          4.33484204e-02,  4.31504883e-02,  3.61967199e-02,\n",
              "          9.65200365e-04, -2.67552622e-02,  1.01494193e-02,\n",
              "         -4.12381403e-02],\n",
              "        [ 2.38808282e-02,  5.29527664e-03,  6.47851080e-03,\n",
              "          4.33484204e-02,  4.31504883e-02,  3.61967199e-02,\n",
              "          9.65200365e-04, -2.67552622e-02,  1.01494193e-02,\n",
              "         -4.12381403e-02],\n",
              "        [ 1.07763782e-02,  5.30076027e-03, -5.08020073e-03,\n",
              "         -2.82939672e-02, -4.06637304e-02, -2.77838949e-02,\n",
              "          6.87192753e-03,  4.76192497e-02, -1.97592378e-02,\n",
              "          1.50390528e-02],\n",
              "        [-2.48236191e-02,  4.84916233e-02, -3.59317772e-02,\n",
              "         -4.99819294e-02,  3.48569490e-02,  2.20283903e-02,\n",
              "         -3.86435762e-02,  2.13069841e-03,  2.89384387e-02,\n",
              "         -4.03257012e-02],\n",
              "        [ 1.68799423e-02, -4.35194969e-02,  1.57631151e-02,\n",
              "          2.53626145e-02, -1.75632127e-02,  4.76381816e-02,\n",
              "          1.38882883e-02, -2.35475898e-02,  3.31041552e-02,\n",
              "          4.25111540e-02],\n",
              "        [ 2.40825154e-02,  3.72631438e-02,  3.92645486e-02,\n",
              "          3.02111544e-02,  4.01371457e-02, -2.92185694e-03,\n",
              "         -3.98018360e-02, -4.50567268e-02,  3.78273427e-04,\n",
              "         -1.45598650e-02],\n",
              "        [ 1.07763782e-02,  5.30076027e-03, -5.08020073e-03,\n",
              "         -2.82939672e-02, -4.06637304e-02, -2.77838949e-02,\n",
              "          6.87192753e-03,  4.76192497e-02, -1.97592378e-02,\n",
              "          1.50390528e-02],\n",
              "        [ 4.26873900e-02, -3.36314663e-02,  2.49812864e-02,\n",
              "         -4.84503508e-02, -4.71120477e-02, -3.46643217e-02,\n",
              "          8.89302418e-03, -2.00693011e-02,  4.20763604e-02,\n",
              "         -6.63124397e-03]],\n",
              "\n",
              "       [[ 2.38808282e-02,  5.29527664e-03,  6.47851080e-03,\n",
              "          4.33484204e-02,  4.31504883e-02,  3.61967199e-02,\n",
              "          9.65200365e-04, -2.67552622e-02,  1.01494193e-02,\n",
              "         -4.12381403e-02],\n",
              "        [-1.59951560e-02,  4.36598323e-02, -1.21033788e-02,\n",
              "          2.24118344e-02,  3.82297896e-02, -3.26253548e-02,\n",
              "          6.62934780e-03, -4.62633744e-02, -9.49006155e-03,\n",
              "          1.45134814e-02],\n",
              "        [ 2.00756080e-02,  4.80867550e-03, -2.72038579e-02,\n",
              "         -1.85000077e-02, -1.60956271e-02, -1.00537539e-02,\n",
              "         -3.24381366e-02, -2.01876890e-02,  4.20529507e-02,\n",
              "         -4.24088947e-02],\n",
              "        [-1.81659684e-02,  2.40626000e-02, -4.22583893e-03,\n",
              "         -4.00670394e-02, -4.69284914e-02,  1.91772021e-02,\n",
              "          4.65480238e-03,  2.00520270e-02,  2.91017629e-02,\n",
              "          1.47661306e-02],\n",
              "        [ 1.68799423e-02, -4.35194969e-02,  1.57631151e-02,\n",
              "          2.53626145e-02, -1.75632127e-02,  4.76381816e-02,\n",
              "          1.38882883e-02, -2.35475898e-02,  3.31041552e-02,\n",
              "          4.25111540e-02],\n",
              "        [-1.85563341e-02, -1.13985538e-02,  3.13104875e-02,\n",
              "          3.99282463e-02, -3.15848961e-02,  2.80411728e-02,\n",
              "         -3.48443389e-02,  8.19989294e-03, -3.15450318e-02,\n",
              "          5.41014597e-03],\n",
              "        [-4.20944318e-02, -2.69572269e-02, -2.46117599e-02,\n",
              "          3.10343765e-02,  2.30043866e-02,  2.84458064e-02,\n",
              "          1.01395473e-02, -2.09751613e-02,  1.78289413e-03,\n",
              "          3.53863090e-03],\n",
              "        [ 3.69706489e-02, -9.87756252e-03,  1.55137517e-02,\n",
              "         -4.34692018e-02,  4.60566767e-02,  1.14729889e-02,\n",
              "         -3.58329788e-02, -1.18731149e-02, -1.45154819e-02,\n",
              "          1.06276497e-02]],\n",
              "\n",
              "       [[ 2.38808282e-02,  5.29527664e-03,  6.47851080e-03,\n",
              "          4.33484204e-02,  4.31504883e-02,  3.61967199e-02,\n",
              "          9.65200365e-04, -2.67552622e-02,  1.01494193e-02,\n",
              "         -4.12381403e-02],\n",
              "        [ 2.38808282e-02,  5.29527664e-03,  6.47851080e-03,\n",
              "          4.33484204e-02,  4.31504883e-02,  3.61967199e-02,\n",
              "          9.65200365e-04, -2.67552622e-02,  1.01494193e-02,\n",
              "         -4.12381403e-02],\n",
              "        [-3.10195684e-02, -2.42316965e-02, -1.08674765e-02,\n",
              "         -3.09323911e-02, -2.51911040e-02,  3.55954058e-02,\n",
              "         -9.14936140e-03, -3.79314646e-02,  2.48562731e-02,\n",
              "         -1.47325024e-02],\n",
              "        [ 1.68799423e-02, -4.35194969e-02,  1.57631151e-02,\n",
              "          2.53626145e-02, -1.75632127e-02,  4.76381816e-02,\n",
              "          1.38882883e-02, -2.35475898e-02,  3.31041552e-02,\n",
              "          4.25111540e-02],\n",
              "        [-1.85563341e-02, -1.13985538e-02,  3.13104875e-02,\n",
              "          3.99282463e-02, -3.15848961e-02,  2.80411728e-02,\n",
              "         -3.48443389e-02,  8.19989294e-03, -3.15450318e-02,\n",
              "          5.41014597e-03],\n",
              "        [-4.20944318e-02, -2.69572269e-02, -2.46117599e-02,\n",
              "          3.10343765e-02,  2.30043866e-02,  2.84458064e-02,\n",
              "          1.01395473e-02, -2.09751613e-02,  1.78289413e-03,\n",
              "          3.53863090e-03],\n",
              "        [ 8.27857107e-03,  2.62228288e-02, -2.45213509e-04,\n",
              "         -4.62969057e-02, -2.43778955e-02, -1.65616386e-02,\n",
              "         -2.03919169e-02,  7.54922628e-03,  1.50733069e-03,\n",
              "         -4.08829078e-02],\n",
              "        [-4.29850593e-02, -4.03381512e-03,  3.99012603e-02,\n",
              "         -5.25235012e-03,  1.47941224e-02,  4.22045328e-02,\n",
              "         -1.58586726e-02,  1.69917196e-03,  4.69452478e-02,\n",
              "         -6.06684759e-03]]], dtype=float32)"
            ]
          },
          "metadata": {},
          "execution_count": 23
        }
      ]
    },
    {
      "cell_type": "code",
      "source": [],
      "metadata": {
        "id": "UNczOjhZEjjw"
      },
      "execution_count": null,
      "outputs": []
    }
  ],
  "metadata": {
    "kernelspec": {
      "display_name": "Python 3",
      "language": "python",
      "name": "python3"
    },
    "language_info": {
      "codemirror_mode": {
        "name": "ipython",
        "version": 3
      },
      "file_extension": ".py",
      "mimetype": "text/x-python",
      "name": "python",
      "nbconvert_exporter": "python",
      "pygments_lexer": "ipython3",
      "version": "3.7.4"
    },
    "colab": {
      "provenance": []
    },
    "accelerator": "GPU",
    "gpuClass": "standard"
  },
  "nbformat": 4,
  "nbformat_minor": 0
}