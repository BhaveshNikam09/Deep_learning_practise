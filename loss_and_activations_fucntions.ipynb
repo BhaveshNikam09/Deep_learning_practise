{
  "nbformat": 4,
  "nbformat_minor": 0,
  "metadata": {
    "colab": {
      "provenance": [],
      "authorship_tag": "ABX9TyMP9C8Ji1bup6rjPe8iE///",
      "include_colab_link": true
    },
    "kernelspec": {
      "name": "python3",
      "display_name": "Python 3"
    },
    "language_info": {
      "name": "python"
    }
  },
  "cells": [
    {
      "cell_type": "markdown",
      "metadata": {
        "id": "view-in-github",
        "colab_type": "text"
      },
      "source": [
        "<a href=\"https://colab.research.google.com/github/BhaveshNikam09/Deep_learning_practise/blob/main/loss_and_activations_fucntions.ipynb\" target=\"_parent\"><img src=\"https://colab.research.google.com/assets/colab-badge.svg\" alt=\"Open In Colab\"/></a>"
      ]
    },
    {
      "cell_type": "markdown",
      "source": [
        "# **Loss** **Function**"
      ],
      "metadata": {
        "id": "VhEU5gw4yDaI"
      }
    },
    {
      "cell_type": "code",
      "source": [
        "import tensorflow as tf\n",
        "import torch\n",
        "import torch.nn as nn"
      ],
      "metadata": {
        "id": "edecG9W9yN-4"
      },
      "execution_count": 52,
      "outputs": []
    },
    {
      "cell_type": "markdown",
      "source": [
        "**1.Mean Squared Error (MSE):**\n",
        "\n",
        "\n",
        "*   Penalizes larger errors more due to squaring.\n",
        "*   Sensitive to outliers.\n",
        "\n"
      ],
      "metadata": {
        "id": "KFkKRlZ92iqG"
      }
    },
    {
      "cell_type": "code",
      "source": [
        "## using tensorflow\n",
        "y_true=tf.constant([3.0,5.0,7.0])\n",
        "y_pred=tf.constant([2.5,5.2,6.8])\n",
        "mse=tf.keras.losses.MeanSquaredError()\n",
        "loss=mse(y_true,y_pred)\n",
        "print(f'Means Squared Error {loss}')"
      ],
      "metadata": {
        "colab": {
          "base_uri": "https://localhost:8080/"
        },
        "id": "GqIgsWPVtGJe",
        "outputId": "84f41182-0ee8-4be1-93c9-f965e0e665e9"
      },
      "execution_count": 53,
      "outputs": [
        {
          "output_type": "stream",
          "name": "stdout",
          "text": [
            "Means Squared Error 0.10999995470046997\n"
          ]
        }
      ]
    },
    {
      "cell_type": "code",
      "source": [
        "## using pytorch\n",
        "y_true=torch.tensor([3.0,5.0,7.0])\n",
        "y_pred=torch.tensor([2.5,5.2,6.8])\n",
        "mse=nn.MSELoss()\n",
        "loss=mse(y_true,y_pred)\n",
        "print(f'mse using the pytorch {loss}')"
      ],
      "metadata": {
        "colab": {
          "base_uri": "https://localhost:8080/"
        },
        "id": "gzmsDw0c3CQv",
        "outputId": "6fcd4058-a1a1-434c-ea95-35c98eb6f7cd"
      },
      "execution_count": 54,
      "outputs": [
        {
          "output_type": "stream",
          "name": "stdout",
          "text": [
            "mse using the pytorch 0.10999995470046997\n"
          ]
        }
      ]
    },
    {
      "cell_type": "markdown",
      "source": [
        "**2.Mean Absolute Error (MAE):**\n",
        "\n",
        "\n",
        "*  Less sensitive to outliers than MSE.\n",
        "\n",
        "\n",
        "*   Measures absolute differences.\n",
        "\n",
        "\n"
      ],
      "metadata": {
        "id": "0h2LJW_t3Tpd"
      }
    },
    {
      "cell_type": "code",
      "source": [
        "## using tensorflow\n",
        "mae=tf.keras.losses.MeanAbsoluteError()\n",
        "loss=mae(y_true,y_pred)\n",
        "print(f'Mean Absolute Error {loss}')"
      ],
      "metadata": {
        "colab": {
          "base_uri": "https://localhost:8080/"
        },
        "id": "mfhxNvzPuV5x",
        "outputId": "41c13091-6b15-4275-caac-955ef647ec38"
      },
      "execution_count": 55,
      "outputs": [
        {
          "output_type": "stream",
          "name": "stdout",
          "text": [
            "Mean Absolute Error 0.299999862909317\n"
          ]
        }
      ]
    },
    {
      "cell_type": "code",
      "source": [
        "##using pytorch\n",
        "maee=nn.L1Loss()\n",
        "loss=maee(y_true,y_pred)\n",
        "print(f'mae using the pytorch {loss}')"
      ],
      "metadata": {
        "colab": {
          "base_uri": "https://localhost:8080/"
        },
        "id": "LAbO_Qvh3pjH",
        "outputId": "01d76b5b-63c6-4d3d-c22e-8217e9312517"
      },
      "execution_count": 56,
      "outputs": [
        {
          "output_type": "stream",
          "name": "stdout",
          "text": [
            "mae using the pytorch 0.299999862909317\n"
          ]
        }
      ]
    },
    {
      "cell_type": "markdown",
      "source": [
        "**2. Loss Functions for Classification**:\n",
        "   \n",
        "   **(a) Binary Crossentropy (for Binary Classification)**\n",
        "\n",
        "\n",
        "\n",
        "*  Used when labels are 0 or 1.\n",
        "\n"
      ],
      "metadata": {
        "id": "5XoJkEXv34_j"
      }
    },
    {
      "cell_type": "code",
      "source": [
        "## for classification using tensorflow\n",
        "y_true = tf.constant([1.0, 0.0, 1.0])\n",
        "y_pred = tf.constant([0.9, 0.2, 0.8])\n",
        "bce=tf.keras.losses.BinaryCrossentropy()\n",
        "loss=bce(y_true,y_pred)\n",
        "print(f'Binary Cross Entropy {loss.numpy()}')"
      ],
      "metadata": {
        "colab": {
          "base_uri": "https://localhost:8080/"
        },
        "id": "qGxCBDr-wUS2",
        "outputId": "2d32ebf3-7124-4528-a3cf-023f05a503a4"
      },
      "execution_count": 57,
      "outputs": [
        {
          "output_type": "stream",
          "name": "stdout",
          "text": [
            "Binary Cross Entropy 0.18388253450393677\n"
          ]
        }
      ]
    },
    {
      "cell_type": "code",
      "source": [
        "## using the pytorch\n",
        "y_true = torch.tensor([1.0, 0.0, 1.0])\n",
        "y_pred = torch.tensor([0.9, 0.2, 0.8])\n",
        "bce=nn.BCELoss()\n",
        "loss1=bce(y_pred,y_true)\n",
        "print(f'Binary Cross Entropy  using pytorch {loss1}')"
      ],
      "metadata": {
        "colab": {
          "base_uri": "https://localhost:8080/"
        },
        "id": "8fLO_1Zc4MwG",
        "outputId": "9e3eea9e-92f3-4dea-b379-9eba3b55a6be"
      },
      "execution_count": 58,
      "outputs": [
        {
          "output_type": "stream",
          "name": "stdout",
          "text": [
            "Binary Cross Entropy  using pytorch 0.18388254940509796\n"
          ]
        }
      ]
    },
    {
      "cell_type": "markdown",
      "source": [
        "**(b) Categorical Crossentropy (for Multi-Class Classification)**\n",
        "\n",
        "\n",
        "*   Used when labels belong to multiple categories\n",
        "\n"
      ],
      "metadata": {
        "id": "6aABIOMM4YBr"
      }
    },
    {
      "cell_type": "code",
      "source": [
        "# using tensorlfow\n",
        "y_true = tf.constant([[0, 1, 0], [1, 0, 0]])  # One-hot encoded labels\n",
        "y_pred = tf.constant([[0.2, 0.7, 0.1], [0.9, 0.05, 0.05]])  # Model predictions\n",
        "\n",
        "cce = tf.keras.losses.CategoricalCrossentropy()\n",
        "loss = cce(y_true, y_pred)\n",
        "print(\"Categorical Crossentropy Loss:\", loss.numpy())\n"
      ],
      "metadata": {
        "colab": {
          "base_uri": "https://localhost:8080/"
        },
        "id": "o6_Rdp_mwUaf",
        "outputId": "d866c3e8-b8e3-4c55-ce88-3a3af83d340c"
      },
      "execution_count": 59,
      "outputs": [
        {
          "output_type": "stream",
          "name": "stdout",
          "text": [
            "Categorical Crossentropy Loss: 0.23101775\n"
          ]
        }
      ]
    },
    {
      "cell_type": "code",
      "source": [
        "# Using pytorch\n",
        "y_true = torch.tensor([1, 0])  # Class indices\n",
        "y_pred = torch.tensor([[0.2, 0.7, 0.1], [0.9, 0.05, 0.05]])\n",
        "\n",
        "cce = nn.CrossEntropyLoss()\n",
        "loss = cce(y_pred, y_true)\n",
        "print(\"Categorical Crossentropy Loss:\", loss.item())\n"
      ],
      "metadata": {
        "colab": {
          "base_uri": "https://localhost:8080/"
        },
        "id": "9F1TGf0x4h6v",
        "outputId": "fe35e1bd-9ccf-44d8-bc92-09a05244d3f8"
      },
      "execution_count": 60,
      "outputs": [
        {
          "output_type": "stream",
          "name": "stdout",
          "text": [
            "Categorical Crossentropy Loss: 0.6928712129592896\n"
          ]
        }
      ]
    },
    {
      "cell_type": "markdown",
      "source": [
        "\n",
        "\n",
        "*   **MSE: Good for regression but sensitive to outliers.**\n",
        "\n",
        "*   **MAE: Less sensitive to outliers**\n",
        "\n",
        "*   **Binary Crossentropy: Used for binary classification.**\n",
        "\n",
        "*   **Categorical Crossentropy: Used for multi-class classification.**\n",
        "\n"
      ],
      "metadata": {
        "id": "ojzgMrxO5GV1"
      }
    },
    {
      "cell_type": "markdown",
      "source": [
        "# **Activation** **Functions**\n",
        "\n"
      ],
      "metadata": {
        "id": "7XWvDC7ox4KQ"
      }
    },
    {
      "cell_type": "markdown",
      "source": [
        "**1. Linear Activation Funtion :**\n",
        "\n",
        "🔹Used in: Regression problems (output layer).\n",
        "\n",
        "🔹 Limitation: Cannot capture complex patterns."
      ],
      "metadata": {
        "id": "Czlp-Y6Xy9W0"
      }
    },
    {
      "cell_type": "code",
      "source": [
        "linear=tf.keras.activations.linear\n",
        "print(linear(2.5))"
      ],
      "metadata": {
        "colab": {
          "base_uri": "https://localhost:8080/"
        },
        "id": "is_PiAKHx7Zr",
        "outputId": "5abc30c2-d632-481b-e6b9-5e94fda8ce10"
      },
      "execution_count": 34,
      "outputs": [
        {
          "output_type": "stream",
          "name": "stdout",
          "text": [
            "2.5\n"
          ]
        }
      ]
    },
    {
      "cell_type": "markdown",
      "source": [
        "**2.Sigmoid Function (Logistic Function):**\n",
        "\n",
        "🔹 Range: (0,1)\n",
        "\n",
        "🔹 Used in: Binary classification (output layer).\n",
        "\n",
        "🔹 Limitations:\n",
        "✅ Good for probabilities.\n",
        "\n",
        "❌ Can cause vanishing gradients for large/small values."
      ],
      "metadata": {
        "id": "zcn7sEgUznih"
      }
    },
    {
      "cell_type": "code",
      "source": [
        "sigmoid = tf.keras.activations.sigmoid  ## using the tensor\n",
        "print(sigmoid(tf.constant([-1.0, 0.0, 1.0])))  # Outputs values between 0 and 1"
      ],
      "metadata": {
        "colab": {
          "base_uri": "https://localhost:8080/"
        },
        "id": "p2YGBjExytaL",
        "outputId": "c4c7ff32-1cdf-403b-f47d-ab247a1b536c"
      },
      "execution_count": 35,
      "outputs": [
        {
          "output_type": "stream",
          "name": "stdout",
          "text": [
            "tf.Tensor([0.26894143 0.5        0.7310586 ], shape=(3,), dtype=float32)\n"
          ]
        }
      ]
    },
    {
      "cell_type": "code",
      "source": [
        "import torch.nn.functional as F ## using the pytorch\n",
        "import torch\n",
        "print(F.sigmoid(torch.tensor([-1.0, 0.0, 1.0])))  # Outputs values between 0 and 1"
      ],
      "metadata": {
        "colab": {
          "base_uri": "https://localhost:8080/"
        },
        "id": "hcChTm0s0Aqv",
        "outputId": "476dcd6e-bddd-461d-fd51-aeb2293735b9"
      },
      "execution_count": 36,
      "outputs": [
        {
          "output_type": "stream",
          "name": "stdout",
          "text": [
            "tensor([0.2689, 0.5000, 0.7311])\n"
          ]
        }
      ]
    },
    {
      "cell_type": "markdown",
      "source": [
        "**3.Tanh (Hyperbolic Tangent):**\n",
        "\n",
        "🔹 Range: (-1,1)\n",
        "\n",
        "🔹 Used in: Hidden layers of RNNs.\n",
        "\n",
        "🔹 Advantage: Zero-centered (better than sigmoid).\n",
        "\n",
        "🔹 Disadvantage: Still suffers from vanishing gradients.\n"
      ],
      "metadata": {
        "id": "nh09Ja0z0Mkj"
      }
    },
    {
      "cell_type": "code",
      "source": [
        "tanh = tf.keras.activations.tanh\n",
        "print(tanh(tf.constant([-1.0, 0.0, 1.0])))  # Outputs values between -1 and 1"
      ],
      "metadata": {
        "colab": {
          "base_uri": "https://localhost:8080/"
        },
        "id": "TNZsTRb40HZy",
        "outputId": "f02e69d8-91fd-4ccc-c145-6e6fe103099f"
      },
      "execution_count": 37,
      "outputs": [
        {
          "output_type": "stream",
          "name": "stdout",
          "text": [
            "tf.Tensor([-0.7615942  0.         0.7615942], shape=(3,), dtype=float32)\n"
          ]
        }
      ]
    },
    {
      "cell_type": "code",
      "source": [
        "## using the pytorch\n",
        "print(F.tanh(torch.tensor([-1.0, 0.0, 1.0])))  # Outputs values between -1 and 1"
      ],
      "metadata": {
        "colab": {
          "base_uri": "https://localhost:8080/"
        },
        "id": "PZ94WRnI0Yf-",
        "outputId": "5b106dff-b222-4898-bd7a-cc38f8411ccb"
      },
      "execution_count": 39,
      "outputs": [
        {
          "output_type": "stream",
          "name": "stdout",
          "text": [
            "tensor([-0.7616,  0.0000,  0.7616])\n"
          ]
        }
      ]
    },
    {
      "cell_type": "markdown",
      "source": [
        "**4.ReLU (Rectified Linear Unit):**\n",
        "\n",
        "🔹 Range:  (0,infinity)\n",
        "\n",
        "🔹 Used in: Most hidden layers in CNNs and deep networks.\n",
        "\n",
        "🔹 Advantage: Solves vanishing gradient problem.\n",
        "\n",
        "🔹 Disadvantage: Dying ReLU problem (neurons can get stuck at zero)."
      ],
      "metadata": {
        "id": "yiogel4M0k_w"
      }
    },
    {
      "cell_type": "code",
      "source": [
        "relu = tf.keras.activations.relu\n",
        "print(relu(tf.constant([-1.0, 0.0, 1.0])))  # Outputs [0, 0, 1]"
      ],
      "metadata": {
        "colab": {
          "base_uri": "https://localhost:8080/"
        },
        "id": "663EC3OS0bLj",
        "outputId": "9c8f1970-1da7-4249-aca8-992359b7d4ec"
      },
      "execution_count": 40,
      "outputs": [
        {
          "output_type": "stream",
          "name": "stdout",
          "text": [
            "tf.Tensor([0. 0. 1.], shape=(3,), dtype=float32)\n"
          ]
        }
      ]
    },
    {
      "cell_type": "code",
      "source": [
        "print(F.relu(torch.tensor([-1.0, 0.0, 1.0])))  # Outputs [0, 0, 1]"
      ],
      "metadata": {
        "colab": {
          "base_uri": "https://localhost:8080/"
        },
        "id": "iwThxRQ803NJ",
        "outputId": "05ac01fb-31be-42fb-bf4b-d28d6cbc220c"
      },
      "execution_count": 41,
      "outputs": [
        {
          "output_type": "stream",
          "name": "stdout",
          "text": [
            "tensor([0., 0., 1.])\n"
          ]
        }
      ]
    },
    {
      "cell_type": "markdown",
      "source": [
        "**5.Leaky Relu:**\n",
        "\n",
        "🔹 Fixes Dying ReLU by allowing a small negative slope."
      ],
      "metadata": {
        "id": "CDHhAyCh06Og"
      }
    },
    {
      "cell_type": "code",
      "source": [
        "leaky_relu = tf.keras.layers.LeakyReLU(alpha=0.01)\n",
        "print(leaky_relu(tf.constant([-1.0, 0.0, 1.0])))  # Outputs small negative values for x < 0"
      ],
      "metadata": {
        "colab": {
          "base_uri": "https://localhost:8080/"
        },
        "id": "rNlXzyzq04eU",
        "outputId": "ca06bfce-3645-445e-f5bc-e1c854060f8a"
      },
      "execution_count": 42,
      "outputs": [
        {
          "output_type": "stream",
          "name": "stdout",
          "text": [
            "tf.Tensor([-0.01  0.    1.  ], shape=(3,), dtype=float32)\n"
          ]
        },
        {
          "output_type": "stream",
          "name": "stderr",
          "text": [
            "/usr/local/lib/python3.11/dist-packages/keras/src/layers/activations/leaky_relu.py:41: UserWarning: Argument `alpha` is deprecated. Use `negative_slope` instead.\n",
            "  warnings.warn(\n"
          ]
        }
      ]
    },
    {
      "cell_type": "code",
      "source": [
        "leaky_relu = torch.nn.LeakyReLU(0.01)\n",
        "print(leaky_relu(torch.tensor([-1.0, 0.0, 1.0])))"
      ],
      "metadata": {
        "colab": {
          "base_uri": "https://localhost:8080/"
        },
        "id": "OiOMVMEV1Irj",
        "outputId": "198f8854-48d8-4b74-b7c5-40c8adf68ee3"
      },
      "execution_count": 43,
      "outputs": [
        {
          "output_type": "stream",
          "name": "stdout",
          "text": [
            "tensor([-0.0100,  0.0000,  1.0000])\n"
          ]
        }
      ]
    },
    {
      "cell_type": "markdown",
      "source": [
        "**6.Softmax (Multi-Class Classification):**\n",
        "\n",
        "🔹 Used in: Last layer for multi-class classification.\n",
        "\n",
        "🔹 Converts logits into probability distributions."
      ],
      "metadata": {
        "id": "t9hIw_iv1M43"
      }
    },
    {
      "cell_type": "code",
      "source": [
        "softmax = tf.keras.activations.softmax\n",
        "print(softmax(tf.constant([2.0, 1.0, 0.1])))  # Outputs probabilities summing to 1"
      ],
      "metadata": {
        "colab": {
          "base_uri": "https://localhost:8080/"
        },
        "id": "2So_U2vG1Kte",
        "outputId": "f475d5f4-4431-40dd-d0cc-5b6a4f24b815"
      },
      "execution_count": 45,
      "outputs": [
        {
          "output_type": "stream",
          "name": "stdout",
          "text": [
            "tf.Tensor([0.6590012  0.24243298 0.09856589], shape=(3,), dtype=float32)\n"
          ]
        }
      ]
    },
    {
      "cell_type": "code",
      "source": [
        "print(F.softmax(torch.tensor([2.0, 1.0, 0.1]), dim=0))  # Outputs probabilities summing to 1"
      ],
      "metadata": {
        "colab": {
          "base_uri": "https://localhost:8080/"
        },
        "id": "I_5xLZ0F1dT4",
        "outputId": "4572e6c5-47fd-4ffa-838a-cb13eac02236"
      },
      "execution_count": 46,
      "outputs": [
        {
          "output_type": "stream",
          "name": "stdout",
          "text": [
            "tensor([0.6590, 0.2424, 0.0986])\n"
          ]
        }
      ]
    },
    {
      "cell_type": "markdown",
      "source": [
        "![Screenshot 2025-02-19 114236.png](data:image/png;base64,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)"
      ],
      "metadata": {
        "id": "_pc6MZgl1lIA"
      }
    }
  ]
}