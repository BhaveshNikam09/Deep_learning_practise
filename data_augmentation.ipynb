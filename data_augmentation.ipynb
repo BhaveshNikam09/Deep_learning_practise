{
  "nbformat": 4,
  "nbformat_minor": 0,
  "metadata": {
    "colab": {
      "provenance": [],
      "gpuType": "T4",
      "authorship_tag": "ABX9TyPcScAcXAQNGTpF7YPogbbP"
    },
    "kernelspec": {
      "name": "python3",
      "display_name": "Python 3"
    },
    "language_info": {
      "name": "python"
    },
    "accelerator": "GPU"
  },
  "cells": [
    {
      "cell_type": "code",
      "execution_count": 5,
      "metadata": {
        "id": "gRZ-cWursro3"
      },
      "outputs": [],
      "source": [
        "import Augmentor"
      ]
    },
    {
      "cell_type": "code",
      "source": [
        "a=Augmentor.Pipeline('/content/sample_data/test')"
      ],
      "metadata": {
        "id": "80odzrfscfCl",
        "outputId": "c8d9a6ee-7928-41d3-a1c8-b084d2f017b9",
        "colab": {
          "base_uri": "https://localhost:8080/"
        }
      },
      "execution_count": 6,
      "outputs": [
        {
          "output_type": "stream",
          "name": "stdout",
          "text": [
            "Initialised with 2 image(s) found.\n",
            "Output directory set to /content/sample_data/test/output."
          ]
        }
      ]
    },
    {
      "cell_type": "code",
      "source": [
        "a.rotate(probability=0.5,max_left_rotation=5,max_right_rotation=10)\n",
        "a.shear(probability=0.5,max_shear_left=10,max_shear_right=10)\n",
        "a.flip_left_right(probability=0.5)\n",
        "a.flip_top_bottom(probability=0.5)\n",
        "a.crop_random(probability=0.1,percentage_area=0.2)\n",
        "a.sample(50)"
      ],
      "metadata": {
        "id": "M37Sus8zdogn",
        "colab": {
          "base_uri": "https://localhost:8080/"
        },
        "outputId": "c00f67b1-8981-4c48-b639-3147498646d4"
      },
      "execution_count": 8,
      "outputs": [
        {
          "output_type": "stream",
          "name": "stderr",
          "text": [
            "Processing <PIL.Image.Image image mode=RGB size=183x275 at 0x7FCCD92FAA90>: 100%|██████████| 50/50 [00:00<00:00, 88.33 Samples/s]\n"
          ]
        }
      ]
    },
    {
      "cell_type": "code",
      "source": [],
      "metadata": {
        "id": "So1fTGLY81if"
      },
      "execution_count": null,
      "outputs": []
    }
  ]
}